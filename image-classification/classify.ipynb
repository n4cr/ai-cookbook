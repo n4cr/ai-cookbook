{
 "cells": [
  {
   "cell_type": "code",
   "execution_count": 27,
   "id": "4a7446a1-54cb-461b-93a1-feb896b7040d",
   "metadata": {},
   "outputs": [],
   "source": [
    "from functools import lru_cache\n",
    "from textwrap import dedent\n",
    "import openai\n",
    "import instructor\n",
    "from pydantic import BaseModel, Field\n",
    "from tenacity import retry, stop_after_attempt, wait_fixed\n",
    "import time\n",
    "import base64\n",
    "from dotenv import load_dotenv\n",
    "import os\n",
    "\n",
    "load_dotenv(dotenv_path=\"../.env\")  # take environment variables from ../.env.\n",
    "\n",
    "client = instructor.patch(openai.OpenAI(), mode=instructor.Mode.MD_JSON)\n",
    "\n",
    "class ImageAnalysis(BaseModel):\n",
    "    title: str = Field(\n",
    "        ...,\n",
    "        description=\"The title of the image.\",\n",
    "    )\n",
    "\n",
    "    description: str = Field(\n",
    "        ...,\n",
    "        description=\"The description of the image. Include any summary that can help someone find the image in a database.\",\n",
    "    )\n",
    "    markdown_notes: str = Field(\n",
    "        ...,\n",
    "        description=\"Makedown notes to understand the image better.\",\n",
    "    )\n",
    "    markdown_tables: str = Field(\n",
    "        ...,\n",
    "        description=\"A markdown table listing the features of the image.\",\n",
    "    )\n",
    "\n",
    "    def display(self):\n",
    "        from IPython.display import Markdown, display\n",
    "\n",
    "        report = f\"## {self.title} \\n{self.description} \\n{self.markdown_notes} \\n\\n{self.markdown_tables}\"\n",
    "        display(Markdown(dedent(report)))\n",
    "\n",
    "def analyse_image(img) -> ImageAnalysis:\n",
    "    with open(img, \"rb\") as image_file:\n",
    "        encoded_string = base64.b64encode(image_file.read()).decode(\"utf-8\")\n",
    "    image_url = f\"data:image/jpeg;base64,{encoded_string}\"\n",
    "    print(\"Processing image: \", img)\n",
    "    resp = client.chat.completions.create(\n",
    "        model=\"gpt-4-vision-preview\",\n",
    "        max_tokens=4096,\n",
    "        max_retries=2,\n",
    "        response_model=ImageAnalysis,\n",
    "        temperature=0,\n",
    "        messages=[\n",
    "            {\n",
    "                \"role\": \"system\",\n",
    "                \"content\": \"\"\"\n",
    "                You are a world-class analyst tasked with analyzing images. \n",
    "                Your goal is to generate a comprehensive summary that makes the image easily searchable in a database.\n",
    "                \"\"\"\n",
    "            },\n",
    "            {\n",
    "                \"role\": \"user\",\n",
    "                \"content\": [\n",
    "                    f\"Return a detailed analysis of the image, adhering to the structure defined by {ImageAnalysis.model_json_schema()}\",\n",
    "                    *[{\"type\": \"image_url\", \"image_url\": image_url}],\n",
    "                ],\n",
    "            },\n",
    "        ],\n",
    "    )\n",
    "    return resp"
   ]
  },
  {
   "cell_type": "code",
   "execution_count": 26,
   "id": "cb4ff25d-774d-4555-bc08-298af25c107e",
   "metadata": {},
   "outputs": [
    {
     "data": {
      "text/markdown": [
       "## Aerial View of a Parking Lot \n",
       "The image is an aerial shot of a parking lot filled with vehicles. The vehicles are arranged in neat rows, showcasing a variety of colors and models. The parking lot surface is a light gray, with the lines for parking spaces faintly visible. The image captures the organization and density of urban vehicle storage in a confined space. \n",
       "### Aerial View of a Parking Lot\n",
       "- **Perspective**: Aerial, top-down view\n",
       "- **Content**: Vehicles parked in rows\n",
       "- **Colors**: Various, including red, blue, white, black, and gray\n",
       "- **Patterns**: Repetitive arrangement of vehicles\n",
       "- **Surface**: Light gray asphalt with parking space lines\n",
       "- **Usage**: Can be used to illustrate urban planning, parking lot design, or vehicle density in urban areas. \n",
       "\n",
       "| Feature | Description |\n",
       "| --- | --- |\n",
       "| Perspective | Aerial, top-down view |\n",
       "| Vehicle Colors | Red, blue, white, black, gray |\n",
       "| Parking Lot Surface | Light gray asphalt |\n",
       "| Vehicle Arrangement | Neat rows |\n",
       "| Image Theme | Urban vehicle storage, parking lot design |"
      ],
      "text/plain": [
       "<IPython.core.display.Markdown object>"
      ]
     },
     "metadata": {},
     "output_type": "display_data"
    }
   ],
   "source": [
    "processed_image = analyse_image(\"img2.jpg\")\n",
    "processed_image.display()\n"
   ]
  },
  {
   "cell_type": "code",
   "execution_count": 31,
   "id": "576dfe18",
   "metadata": {},
   "outputs": [
    {
     "name": "stdout",
     "output_type": "stream",
     "text": [
      "{   'description': 'The image captures an aerial view of a beach scene with a '\n",
      "                   'wooden pier extending into the sea. People are seen '\n",
      "                   'swimming in the water and lounging on the beach with '\n",
      "                   'various colorful beach umbrellas and towels. The contrast '\n",
      "                   'between the turquoise water, sandy beach, and the brown '\n",
      "                   'pier creates a visually appealing composition.',\n",
      "    'markdown_notes': '### Aerial Beach Scene\\n'\n",
      "                      '- **Pier**: Central wooden structure extending into the '\n",
      "                      'sea\\n'\n",
      "                      '- **Beachgoers**: Individuals visible on the pier and '\n",
      "                      'beach\\n'\n",
      "                      '- **Swimmers**: People in the water near the pier\\n'\n",
      "                      '- **Beach Umbrellas**: Colorful umbrellas dotting the '\n",
      "                      'beach\\n'\n",
      "                      '- **Beach Towels**: Assorted towels on the sand\\n'\n",
      "                      '- **Water Texture**: Clear turquoise sea with visible '\n",
      "                      'sand underneath\\n'\n",
      "                      '- **Beach Sand**: Light-colored sand with footprints '\n",
      "                      'and beachwear',\n",
      "    'markdown_tables': '| Feature | Description |\\n'\n",
      "                       '| --- | --- |\\n'\n",
      "                       '| Pier | Wooden, central in the image, extending into '\n",
      "                       'the sea |\\n'\n",
      "                       '| People | Beachgoers on the pier and sand, swimmers '\n",
      "                       'in the water |\\n'\n",
      "                       '| Beach Umbrellas | Various colors, providing shade '\n",
      "                       'for beachgoers |\\n'\n",
      "                       '| Beach Towels | Scattered across the sand, different '\n",
      "                       'colors and patterns |\\n'\n",
      "                       '| Sea | Turquoise water, clear with visible sand '\n",
      "                       'beneath |\\n'\n",
      "                       '| Sand | Light-colored with footprints and beachwear '\n",
      "                       'items |',\n",
      "    'title': 'Aerial View of a Beach Pier'}\n"
     ]
    }
   ],
   "source": [
    "import pprint\n",
    "pp = pprint.PrettyPrinter(indent=4)\n",
    "pp.pprint(processed_image.model_dump())\n"
   ]
  },
  {
   "cell_type": "code",
   "execution_count": null,
   "id": "b63792d3",
   "metadata": {},
   "outputs": [],
   "source": []
  },
  {
   "cell_type": "code",
   "execution_count": 28,
   "id": "1bba8a6f",
   "metadata": {},
   "outputs": [
    {
     "name": "stdout",
     "output_type": "stream",
     "text": [
      "Processing image:  img3.jpg\n"
     ]
    },
    {
     "data": {
      "text/markdown": [
       "## Aerial View of a Beach Pier \n",
       "The image captures an aerial view of a beach scene with a wooden pier extending into the sea. People are seen swimming in the water and lounging on the beach with various colorful beach umbrellas and towels. The contrast between the turquoise water, sandy beach, and the brown pier creates a visually appealing composition. \n",
       "### Aerial Beach Scene\n",
       "- **Pier**: Central wooden structure extending into the sea\n",
       "- **Beachgoers**: Individuals visible on the pier and beach\n",
       "- **Swimmers**: People in the water near the pier\n",
       "- **Beach Umbrellas**: Colorful umbrellas dotting the beach\n",
       "- **Beach Towels**: Assorted towels on the sand\n",
       "- **Water Texture**: Clear turquoise sea with visible sand underneath\n",
       "- **Beach Sand**: Light-colored sand with footprints and beachwear \n",
       "\n",
       "| Feature | Description |\n",
       "| --- | --- |\n",
       "| Pier | Wooden, central in the image, extending into the sea |\n",
       "| People | Beachgoers on the pier and sand, swimmers in the water |\n",
       "| Beach Umbrellas | Various colors, providing shade for beachgoers |\n",
       "| Beach Towels | Scattered across the sand, different colors and patterns |\n",
       "| Sea | Turquoise water, clear with visible sand beneath |\n",
       "| Sand | Light-colored with footprints and beachwear items |"
      ],
      "text/plain": [
       "<IPython.core.display.Markdown object>"
      ]
     },
     "metadata": {},
     "output_type": "display_data"
    }
   ],
   "source": [
    "processed_image = analyse_image(\"img3.jpg\")\n",
    "processed_image.display()\n",
    "\n"
   ]
  },
  {
   "cell_type": "code",
   "execution_count": null,
   "id": "cd00bbae",
   "metadata": {},
   "outputs": [],
   "source": []
  }
 ],
 "metadata": {
  "kernelspec": {
   "display_name": "Python 3 (ipykernel)",
   "language": "python",
   "name": "python3"
  },
  "language_info": {
   "codemirror_mode": {
    "name": "ipython",
    "version": 3
   },
   "file_extension": ".py",
   "mimetype": "text/x-python",
   "name": "python",
   "nbconvert_exporter": "python",
   "pygments_lexer": "ipython3",
   "version": "3.11.6"
  }
 },
 "nbformat": 4,
 "nbformat_minor": 5
}
