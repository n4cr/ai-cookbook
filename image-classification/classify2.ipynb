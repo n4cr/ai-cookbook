{
 "cells": [
  {
   "cell_type": "code",
   "execution_count": 27,
   "id": "4a7446a1-54cb-461b-93a1-feb896b7040d",
   "metadata": {},
   "outputs": [],
   "source": [
    "from typing import List\n",
    "import openai\n",
    "import instructor\n",
    "from pydantic import BaseModel, Field\n",
    "import base64\n",
    "from dotenv import load_dotenv\n",
    "\n",
    "load_dotenv(dotenv_path=\"../.env\")  # take environment variables from ../.env.\n",
    "\n",
    "client = instructor.patch(openai.OpenAI(), mode=instructor.Mode.MD_JSON)\n",
    "\n",
    "\n",
    "class ImageAnalysis(BaseModel):\n",
    "    title: str = Field(\n",
    "        ...,\n",
    "        description=\"The title of the image.\",\n",
    "    )\n",
    "\n",
    "    description: str = Field(\n",
    "        ...,\n",
    "        description=\"The description of the image. Include any summary that can help someone find the image in a database.\",\n",
    "    )\n",
    "    features: List[str] = Field(\n",
    "        ...,\n",
    "        description=\"A list of objects that are present in the image.\",\n",
    "    )\n",
    "\n",
    "\n",
    "def analyse_image(img) -> ImageAnalysis:\n",
    "    print(\"Processing image: \", img)\n",
    "    with open(img, \"rb\") as image_file:\n",
    "        encoded_string = base64.b64encode(image_file.read()).decode(\"utf-8\")\n",
    "    image_url = f\"data:image/jpeg;base64,{encoded_string}\"\n",
    "    resp = client.chat.completions.create(\n",
    "        model=\"gpt-4-vision-preview\",\n",
    "        max_tokens=4096,\n",
    "        max_retries=2,\n",
    "        response_model=ImageAnalysis,\n",
    "        temperature=0,\n",
    "        messages=[\n",
    "            {\n",
    "                \"role\": \"system\",\n",
    "                \"content\": \"\"\"\n",
    "                You are a world-class analyst tasked with analyzing aerial photos.\n",
    "                Your goal is to identify the objects in the image and provide a detailed analysis of the image.\n",
    "                Include any features that can enhance understanding of the image.\"\"\",\n",
    "            },\n",
    "            {\n",
    "                \"role\": \"user\",\n",
    "                \"content\": [\n",
    "                    f\"Return a detailed analysis of the image, adhering to the structure defined by {ImageAnalysis.model_json_schema()}\",\n",
    "                    *[{\"type\": \"image_url\", \"image_url\": image_url}],\n",
    "                ],\n",
    "            },\n",
    "        ],\n",
    "    )\n",
    "    return resp"
   ]
  },
  {
   "cell_type": "code",
   "execution_count": 28,
   "id": "cb4ff25d-774d-4555-bc08-298af25c107e",
   "metadata": {},
   "outputs": [
    {
     "name": "stdout",
     "output_type": "stream",
     "text": [
      "Processing image:  img2.jpg\n",
      "{   'description': 'The image is an aerial photograph of a parking lot with '\n",
      "                   'various parked cars. The cars are arranged in rows with a '\n",
      "                   'mix of colors and models. The parking lot surface is a '\n",
      "                   'light gray with visible tire marks. The image can be used '\n",
      "                   'to analyze parking patterns or for urban planning studies.',\n",
      "    'features': ['parking lot', 'parked cars', 'tire marks', 'aerial view'],\n",
      "    'title': 'Aerial View of a Parking Lot'}\n"
     ]
    }
   ],
   "source": [
    "processed_image = analyse_image(\"img2.jpg\")\n",
    "import pprint\n",
    "pp = pprint.PrettyPrinter(indent=4)\n",
    "pp.pprint(processed_image.model_dump())"
   ]
  },
  {
   "cell_type": "code",
   "execution_count": 31,
   "metadata": {},
   "outputs": [
    {
     "name": "stdout",
     "output_type": "stream",
     "text": [
      "{\n",
      "    \"title\": \"Aerial View of a Parking Lot\",\n",
      "    \"description\": \"The image is an aerial photograph of a parking lot with various parked cars. The cars are arranged in rows with a mix of colors and models. The parking lot surface is a light gray with visible tire marks. The image can be used to analyze parking patterns or for urban planning studies.\",\n",
      "    \"features\": [\n",
      "        \"parking lot\",\n",
      "        \"parked cars\",\n",
      "        \"tire marks\",\n",
      "        \"aerial view\"\n",
      "    ]\n",
      "}\n"
     ]
    }
   ],
   "source": [
    "import json\n",
    "print(json.dumps(processed_image.model_dump(), indent=4))\n",
    "\n"
   ]
  },
  {
   "cell_type": "code",
   "execution_count": 6,
   "id": "02a21c74",
   "metadata": {},
   "outputs": [
    {
     "name": "stdout",
     "output_type": "stream",
     "text": [
      "{   'description': 'The image captures an aerial view of a beach scene with a '\n",
      "                   'wooden pier extending into the sea. People are seen '\n",
      "                   'swimming in the water and lounging on the beach with '\n",
      "                   'various beach accessories.',\n",
      "    'objects': [   'beach',\n",
      "                   'pier',\n",
      "                   'people swimming',\n",
      "                   'people lounging',\n",
      "                   'sea',\n",
      "                   'beach umbrellas',\n",
      "                   'beach towels',\n",
      "                   'beach bags'],\n",
      "    'title': 'Aerial View of a Beach Pier'}\n"
     ]
    }
   ],
   "source": []
  },
  {
   "cell_type": "code",
   "execution_count": 32,
   "id": "1bba8a6f",
   "metadata": {},
   "outputs": [
    {
     "name": "stdout",
     "output_type": "stream",
     "text": [
      "Processing image:  img3.jpg\n",
      "{\n",
      "    \"title\": \"Aerial View of a Beach Pier\",\n",
      "    \"description\": \"The image is an aerial shot of a sandy beach with a wooden pier extending into the sea. People are visible on the beach and in the water, some swimming and others lounging on beach towels or under umbrellas. The water transitions from a clear turquoise near the sand to a deeper blue further out.\",\n",
      "    \"features\": [\n",
      "        \"sandy beach\",\n",
      "        \"wooden pier\",\n",
      "        \"people swimming\",\n",
      "        \"people lounging\",\n",
      "        \"beach towels\",\n",
      "        \"beach umbrellas\",\n",
      "        \"turquoise water\",\n",
      "        \"deep blue sea\"\n",
      "    ]\n",
      "}\n"
     ]
    }
   ],
   "source": [
    "processed_image = analyse_image(\"img3.jpg\")\n",
    "import json\n",
    "print(json.dumps(processed_image.model_dump(), indent=4))\n",
    "\n",
    "\n"
   ]
  },
  {
   "cell_type": "code",
   "execution_count": null,
   "id": "cd00bbae",
   "metadata": {},
   "outputs": [],
   "source": []
  }
 ],
 "metadata": {
  "kernelspec": {
   "display_name": "Python 3 (ipykernel)",
   "language": "python",
   "name": "python3"
  },
  "language_info": {
   "codemirror_mode": {
    "name": "ipython",
    "version": 3
   },
   "file_extension": ".py",
   "mimetype": "text/x-python",
   "name": "python",
   "nbconvert_exporter": "python",
   "pygments_lexer": "ipython3",
   "version": "3.11.6"
  }
 },
 "nbformat": 4,
 "nbformat_minor": 5
}
